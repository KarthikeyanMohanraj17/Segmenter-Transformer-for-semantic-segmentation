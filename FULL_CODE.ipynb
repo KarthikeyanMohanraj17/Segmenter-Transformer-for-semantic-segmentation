{
  "nbformat": 4,
  "nbformat_minor": 0,
  "metadata": {
    "colab": {
      "name": "Segmenter_running.ipynb",
      "provenance": [],
      "collapsed_sections": []
    },
    "kernelspec": {
      "name": "python3",
      "display_name": "Python 3"
    },
    "language_info": {
      "name": "python"
    },
    "accelerator": "GPU"
  },
  "cells": [
    {
      "cell_type": "markdown",
      "source": [
        "# Model Training "
      ],
      "metadata": {
        "id": "yzCn-Mg4RBVz"
      }
    },
    {
      "cell_type": "code",
      "execution_count": null,
      "metadata": {
        "id": "k5Pxe4WleFJF"
      },
      "outputs": [],
      "source": [
        "!rm -rf mmsegmentation\n",
        "!git clone https://github.com/open-mmlab/mmsegmentation.git \n",
        "%cd mmsegmentation\n",
        "!pip install -e ."
      ]
    },
    {
      "cell_type": "code",
      "source": [
        "\n",
        "\n"
      ],
      "metadata": {
        "id": "_sJwRUVJeI84"
      },
      "execution_count": null,
      "outputs": []
    },
    {
      "cell_type": "code",
      "source": [
        "%cd ..\\"
      ],
      "metadata": {
        "id": "9itbJI-Mg4XC"
      },
      "execution_count": null,
      "outputs": []
    },
    {
      "cell_type": "code",
      "source": [
        "!rm -rf segmenter\n",
        "!git clone https://github.com/rstrudel/segmenter.git\n",
        "%cd segmenter\n",
        "!pip install -e ."
      ],
      "metadata": {
        "id": "KhVAqZiqhNRx"
      },
      "execution_count": null,
      "outputs": []
    },
    {
      "cell_type": "code",
      "source": [
        "import os\n",
        "os.environ['DATASET'] = '/content/segmenter/ADE20K'"
      ],
      "metadata": {
        "id": "F4FR2a0hfIv3"
      },
      "execution_count": null,
      "outputs": []
    },
    {
      "cell_type": "code",
      "source": [
        "!printenv"
      ],
      "metadata": {
        "id": "C5tB7cATr-W_"
      },
      "execution_count": null,
      "outputs": []
    },
    {
      "cell_type": "code",
      "source": [
        "!python -m segm.scripts.prepare_ade20k '/content/segmenter/ADE20K'\n"
      ],
      "metadata": {
        "id": "VQko01BSinoP"
      },
      "execution_count": null,
      "outputs": []
    },
    {
      "cell_type": "code",
      "source": [
        "import yaml\n",
        "yaml.__version__"
      ],
      "metadata": {
        "id": "mJxsk7BV07td"
      },
      "execution_count": null,
      "outputs": []
    },
    {
      "cell_type": "code",
      "source": [
        "%pip install -U PyYAML\n"
      ],
      "metadata": {
        "id": "WygBvC3o0-c7"
      },
      "execution_count": null,
      "outputs": []
    },
    {
      "cell_type": "code",
      "source": [
        "!mkdir checkpoints\n",
        "!wget https://www.rocq.inria.fr/cluster-willow/rstrudel/segmenter/checkpoints/ade20k/seg_tiny_mask/checkpoint.pth -P checkpoints\n",
        "!wget https://www.rocq.inria.fr/cluster-willow/rstrudel/segmenter/checkpoints/ade20k/seg_tiny_mask/variant.yml -P checkpoints"
      ],
      "metadata": {
        "id": "VfzjHvbg3bYL"
      },
      "execution_count": null,
      "outputs": []
    },
    {
      "cell_type": "code",
      "source": [
        "!python -m segm.inference --model-path '/content/segmenter/checkpoints/checkpoint.pth' -i '/content/segmenter/ADE20K/ade20k/ADEChallengeData2016/images/training' -o '/content/segmenter/Output'"
      ],
      "metadata": {
        "id": "qBzog6tbizRG"
      },
      "execution_count": null,
      "outputs": []
    },
    {
      "cell_type": "code",
      "source": [
        "!python -m segm.eval.miou '/content/segmenter/checkpoints/checkpoint.pth' ade20k --singlescale\n"
      ],
      "metadata": {
        "id": "HZkQar1jbDCk"
      },
      "execution_count": null,
      "outputs": []
    },
    {
      "cell_type": "code",
      "source": [
        "!python -m segm.train --log-dir seg_tiny_mask --dataset ade20k \\\n",
        "  --backbone vit_tiny_patch16_384 --decoder mask_transformer --epochs 30"
      ],
      "metadata": {
        "id": "BgOr1ZvAknOi"
      },
      "execution_count": null,
      "outputs": []
    },
    {
      "cell_type": "code",
      "source": [
        ""
      ],
      "metadata": {
        "id": "TQeNuOaFroXn"
      },
      "execution_count": null,
      "outputs": []
    },
    {
      "cell_type": "markdown",
      "source": [
        "# Inference"
      ],
      "metadata": {
        "id": "iUz0oB-NUFdj"
      }
    },
    {
      "cell_type": "code",
      "source": [
        "!conda --version"
      ],
      "metadata": {
        "id": "bNWjO4KmVwYt"
      },
      "execution_count": null,
      "outputs": []
    },
    {
      "cell_type": "code",
      "source": [
        "# Check nvcc version\n",
        "!nvcc -V\n",
        "\n",
        "# Check GCC version\n",
        "!gcc --version"
      ],
      "metadata": {
        "id": "d9QFojgFVqls"
      },
      "execution_count": null,
      "outputs": []
    },
    {
      "cell_type": "code",
      "source": [
        "!pip install -q condacolab\n",
        "import condacolab\n",
        "condacolab.install()"
      ],
      "metadata": {
        "id": "B10VMYiKVqjT"
      },
      "execution_count": null,
      "outputs": []
    },
    {
      "cell_type": "code",
      "source": [
        "# Install PyTorch\n",
        "!conda install pytorch=1.6.0 torchvision cudatoolkit=10.1 -c pytorch\n",
        "# Install MMCV\n",
        "!pip install mmcv-full -f https://download.openmmlab.com/mmcv/dist/cu101/torch1.6/index.html"
      ],
      "metadata": {
        "id": "tmcy_szlVz1E"
      },
      "execution_count": null,
      "outputs": []
    },
    {
      "cell_type": "code",
      "source": [
        "!rm -rf mmsegmentation\n",
        "!git clone https://github.com/open-mmlab/mmsegmentation.git \n",
        "%cd mmsegmentation\n",
        "!pip install -e ."
      ],
      "metadata": {
        "id": "nqpuV17LV0xZ"
      },
      "execution_count": null,
      "outputs": []
    },
    {
      "cell_type": "code",
      "source": [
        "# Check Pytorch installation\n",
        "import torch, torchvision\n",
        "print(torch.__version__, torch.cuda.is_available())\n",
        "\n",
        "# Check MMSegmentation installation\n",
        "import mmseg\n",
        "print(mmseg.__version__)"
      ],
      "metadata": {
        "id": "m39mYtm8VzyS"
      },
      "execution_count": null,
      "outputs": []
    },
    {
      "cell_type": "code",
      "source": [
        "!mkdir checkpoints\n",
        "\n",
        "!wget https://download.openmmlab.com/mmsegmentation/v0.5/segmenter/segmenter_vit-t_mask_8x1_512x512_160k_ade20k/segmenter_vit-t_mask_8x1_512x512_160k_ade20k_20220105_151706-ffcf7509.pth -P checkpoints"
      ],
      "metadata": {
        "id": "hbuQuCEnVzv8"
      },
      "execution_count": null,
      "outputs": []
    },
    {
      "cell_type": "code",
      "source": [
        "from mmseg.apis import inference_segmentor, init_segmentor, show_result_pyplot\n",
        "from mmseg.core.evaluation import get_palette"
      ],
      "metadata": {
        "id": "44PJJaB0VztI"
      },
      "execution_count": null,
      "outputs": []
    },
    {
      "cell_type": "code",
      "source": [
        "config_file = '/content/mmsegmentation/configs/segmenter/segmenter_vit-t_mask_8x1_512x512_160k_ade20k.py'\n",
        "checkpoint_file = '/content/mmsegmentation/checkpoints/segmenter_vit-t_mask_8x1_512x512_160k_ade20k_20220105_151706-ffcf7509.pth'"
      ],
      "metadata": {
        "id": "vwXZzi7YVzpX"
      },
      "execution_count": null,
      "outputs": []
    },
    {
      "cell_type": "code",
      "source": [
        "# build the model from a config file and a checkpoint file\n",
        "model = init_segmentor(config_file, checkpoint_file, device='cuda:0')"
      ],
      "metadata": {
        "id": "Ol-taloCVznD"
      },
      "execution_count": null,
      "outputs": []
    },
    {
      "cell_type": "code",
      "source": [
        "# test a single image\n",
        "img = '/content/mmsegmentation/demo/demo.png'\n",
        "result = inference_segmentor(model, img)"
      ],
      "metadata": {
        "id": "qjXntbGqVzjw"
      },
      "execution_count": null,
      "outputs": []
    },
    {
      "cell_type": "code",
      "source": [
        "# show the results\n",
        "show_result_pyplot(model, img, result, get_palette('ade'))"
      ],
      "metadata": {
        "id": "shfCUhRtVzhE"
      },
      "execution_count": null,
      "outputs": []
    },
    {
      "cell_type": "code",
      "source": [
        "!mkdir checkpoints\n",
        "\n",
        "!wget https://download.openmmlab.com/mmsegmentation/v0.5/segmenter/segmenter_vit-l_mask_8x1_512x512_160k_ade20k/segmenter_vit-l_mask_8x1_512x512_160k_ade20k_20220105_162750-7ef345be.pth -P checkpoints"
      ],
      "metadata": {
        "id": "nZpgjYHKVzdl"
      },
      "execution_count": null,
      "outputs": []
    },
    {
      "cell_type": "code",
      "source": [
        "config_file = '/content/mmsegmentation/configs/segmenter/segmenter_vit-l_mask_8x1_512x512_160k_ade20k.py'\n",
        "checkpoint_file = '/content/mmsegmentation/checkpoints/segmenter_vit-l_mask_8x1_512x512_160k_ade20k_20220105_162750-7ef345be.pth'"
      ],
      "metadata": {
        "id": "kUBswrtAVqgo"
      },
      "execution_count": null,
      "outputs": []
    },
    {
      "cell_type": "code",
      "source": [
        "# build the model from a config file and a checkpoint file\n",
        "model = init_segmentor(config_file, checkpoint_file, device='cuda:0')"
      ],
      "metadata": {
        "id": "WaCphLpOVqeJ"
      },
      "execution_count": null,
      "outputs": []
    },
    {
      "cell_type": "code",
      "source": [
        "# test a single image\n",
        "img = '/content/mmsegmentation/demo/demo.png'\n",
        "result = inference_segmentor(model, img)"
      ],
      "metadata": {
        "id": "0s_8Yb0YWHjR"
      },
      "execution_count": null,
      "outputs": []
    },
    {
      "cell_type": "code",
      "source": [
        "# show the results\n",
        "show_result_pyplot(model, img, result, get_palette('ade'))"
      ],
      "metadata": {
        "id": "K5tOVmsIWHg9"
      },
      "execution_count": null,
      "outputs": []
    },
    {
      "cell_type": "code",
      "source": [
        ""
      ],
      "metadata": {
        "id": "p9FJrmldWHeN"
      },
      "execution_count": null,
      "outputs": []
    },
    {
      "cell_type": "code",
      "source": [
        ""
      ],
      "metadata": {
        "id": "KsTsnKjoWHcJ"
      },
      "execution_count": null,
      "outputs": []
    },
    {
      "cell_type": "code",
      "source": [
        ""
      ],
      "metadata": {
        "id": "tEmMQZc-WHZw"
      },
      "execution_count": null,
      "outputs": []
    },
    {
      "cell_type": "markdown",
      "source": [
        ""
      ],
      "metadata": {
        "id": "f-zBmZFsUFai"
      }
    }
  ]
}